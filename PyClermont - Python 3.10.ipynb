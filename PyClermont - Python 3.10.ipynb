{
 "cells": [
  {
   "cell_type": "markdown",
   "metadata": {
    "slideshow": {
     "slide_type": "slide"
    }
   },
   "source": [
    "# <center> Les nouveautés de Python 3.10 🐍"
   ]
  },
  {
   "cell_type": "markdown",
   "metadata": {
    "slideshow": {
     "slide_type": "slide"
    }
   },
   "source": [
    "👋, je suis Yannick, développeur Python à Alma (on recrute !)"
   ]
  },
  {
   "cell_type": "markdown",
   "metadata": {
    "slideshow": {
     "slide_type": "slide"
    }
   },
   "source": [
    "Python 3.10 est sorti le 4 octobre 2021. Plus que quelques mois avant Python 3.11 !\n",
    "\n",
    "La version 3.10 apporte pas mal d'améliorations rendues possibles par le nouveau parseur PEG, qui a fait ses débuts dans la 3.9."
   ]
  },
  {
   "cell_type": "code",
   "execution_count": 166,
   "metadata": {
    "slideshow": {
     "slide_type": "skip"
    }
   },
   "outputs": [
    {
     "name": "stdout",
     "output_type": "stream",
     "text": [
      "Created `%%python39` as an alias for `%%script --no-raise-error python3.9`.\n"
     ]
    }
   ],
   "source": [
    "%alias_magic --cell --params \"--no-raise-error python3.9\" python39 script"
   ]
  },
  {
   "cell_type": "markdown",
   "metadata": {
    "slideshow": {
     "slide_type": "slide"
    }
   },
   "source": [
    "## <center> Groupement des gestionnaires de contexte"
   ]
  },
  {
   "cell_type": "code",
   "execution_count": 167,
   "metadata": {
    "slideshow": {
     "slide_type": "subslide"
    }
   },
   "outputs": [
    {
     "name": "stdout",
     "output_type": "stream",
     "text": [
      "foo\n",
      "bar\n",
      "\n"
     ]
    }
   ],
   "source": [
    "# Python 3.9\n",
    "\n",
    "with open('first_file') as first_file:\n",
    "    with open('second_file') as second_file:\n",
    "        with open('dest', 'w+') as dest:\n",
    "            dest.write(first_file.read() + second_file.read())\n",
    "            dest.seek(0)\n",
    "            print(dest.read())"
   ]
  },
  {
   "cell_type": "code",
   "execution_count": 168,
   "metadata": {
    "slideshow": {
     "slide_type": "subslide"
    }
   },
   "outputs": [
    {
     "name": "stdout",
     "output_type": "stream",
     "text": [
      "foo\n",
      "bar\n",
      "\n"
     ]
    }
   ],
   "source": [
    "# Python 3.10\n",
    "\n",
    "with (\n",
    "    open('first_file') as first_file,\n",
    "    open('second_file') as second_file,\n",
    "    open('dest', 'w+') as dest\n",
    "):\n",
    "    dest.write(first_file.read() + second_file.read())\n",
    "    dest.seek(0)\n",
    "    print(dest.read())"
   ]
  },
  {
   "cell_type": "markdown",
   "metadata": {
    "slideshow": {
     "slide_type": "slide"
    }
   },
   "source": [
    "## <center> Des messages d'erreurs plus clairs"
   ]
  },
  {
   "cell_type": "code",
   "execution_count": 169,
   "metadata": {
    "slideshow": {
     "slide_type": "subslide"
    }
   },
   "outputs": [
    {
     "name": "stderr",
     "output_type": "stream",
     "text": [
      "  File \"<stdin>\", line 5\n",
      "    numbers['one']\n",
      "    ^\n",
      "SyntaxError: invalid syntax\n"
     ]
    }
   ],
   "source": [
    "%%python39\n",
    "\n",
    "# Python 3.9\n",
    "\n",
    "numbers = {'one': 1, 'two': 2, 'three': 3, 'four': 4, 'five'\n",
    "numbers['one']"
   ]
  },
  {
   "cell_type": "code",
   "execution_count": 170,
   "metadata": {
    "slideshow": {
     "slide_type": "fragment"
    }
   },
   "outputs": [
    {
     "ename": "SyntaxError",
     "evalue": "'{' was never closed (1333395410.py, line 3)",
     "output_type": "error",
     "traceback": [
      "\u001b[0;36m  Input \u001b[0;32mIn [170]\u001b[0;36m\u001b[0m\n\u001b[0;31m    numbers = {'one': 1, 'two': 2, 'three': 3, 'four': 4, 'five'\u001b[0m\n\u001b[0m              ^\u001b[0m\n\u001b[0;31mSyntaxError\u001b[0m\u001b[0;31m:\u001b[0m '{' was never closed\n"
     ]
    }
   ],
   "source": [
    "# Python 3.10\n",
    "\n",
    "numbers = {'one': 1, 'two': 2, 'three': 3, 'four': 4, 'five'\n",
    "numbers['one']"
   ]
  },
  {
   "cell_type": "code",
   "execution_count": null,
   "metadata": {
    "slideshow": {
     "slide_type": "subslide"
    }
   },
   "outputs": [
    {
     "name": "stderr",
     "output_type": "stream",
     "text": [
      "  File \"<stdin>\", line 4\n",
      "    numbers = {'one': 1, 'two': 2, 'three': 3, 'four': 4, 'five'}\n",
      "                                                                ^\n",
      "SyntaxError: invalid syntax\n"
     ]
    }
   ],
   "source": [
    "%%python39\n",
    "\n",
    "# Python 3.9\n",
    "\n",
    "numbers = {'one': 1, 'two': 2, 'three': 3, 'four': 4, 'five'}\n",
    "numbers['one']"
   ]
  },
  {
   "cell_type": "code",
   "execution_count": null,
   "metadata": {
    "slideshow": {
     "slide_type": "fragment"
    }
   },
   "outputs": [
    {
     "ename": "SyntaxError",
     "evalue": "':' expected after dictionary key (3407349872.py, line 3)",
     "output_type": "error",
     "traceback": [
      "\u001b[0;36m  Input \u001b[0;32mIn [59]\u001b[0;36m\u001b[0m\n\u001b[0;31m    numbers = {'one': 1, 'two': 2, 'three': 3, 'four': 4, 'five'}\u001b[0m\n\u001b[0m                                                               ^\u001b[0m\n\u001b[0;31mSyntaxError\u001b[0m\u001b[0;31m:\u001b[0m ':' expected after dictionary key\n"
     ]
    }
   ],
   "source": [
    "# Python 3.10\n",
    "\n",
    "numbers = {'one': 1, 'two': 2, 'three': 3, 'four': 4, 'five'}\n",
    "numbers['one']"
   ]
  },
  {
   "cell_type": "code",
   "execution_count": null,
   "metadata": {
    "slideshow": {
     "slide_type": "subslide"
    }
   },
   "outputs": [
    {
     "name": "stderr",
     "output_type": "stream",
     "text": [
      "  File \"<stdin>\", line 4\n",
      "    if value = 42:\n",
      "             ^\n",
      "SyntaxError: invalid syntax\n"
     ]
    }
   ],
   "source": [
    "%%python39\n",
    "\n",
    "# Python 3.9\n",
    "\n",
    "if value = 42:\n",
    "    print('ok')"
   ]
  },
  {
   "cell_type": "code",
   "execution_count": null,
   "metadata": {
    "slideshow": {
     "slide_type": "fragment"
    }
   },
   "outputs": [
    {
     "ename": "SyntaxError",
     "evalue": "invalid syntax. Maybe you meant '==' or ':=' instead of '='? (3383720703.py, line 3)",
     "output_type": "error",
     "traceback": [
      "\u001b[0;36m  Input \u001b[0;32mIn [46]\u001b[0;36m\u001b[0m\n\u001b[0;31m    if value = 42:\u001b[0m\n\u001b[0m       ^\u001b[0m\n\u001b[0;31mSyntaxError\u001b[0m\u001b[0;31m:\u001b[0m invalid syntax. Maybe you meant '==' or ':=' instead of '='?\n"
     ]
    }
   ],
   "source": [
    "# Python 3.10\n",
    "\n",
    "if value = 42:\n",
    "    print('ok')"
   ]
  },
  {
   "cell_type": "code",
   "execution_count": null,
   "metadata": {
    "slideshow": {
     "slide_type": "subslide"
    }
   },
   "outputs": [
    {
     "name": "stderr",
     "output_type": "stream",
     "text": [
      "  File \"<stdin>\", line 7\n",
      "    3\n",
      "    ^\n",
      "SyntaxError: invalid syntax\n"
     ]
    }
   ],
   "source": [
    "\n",
    "%%python39\n",
    "\n",
    "# Python 3.9\n",
    "\n",
    "values = [\n",
    "    1,\n",
    "    2\n",
    "    3\n",
    "]"
   ]
  },
  {
   "cell_type": "code",
   "execution_count": null,
   "metadata": {
    "slideshow": {
     "slide_type": "fragment"
    }
   },
   "outputs": [
    {
     "ename": "SyntaxError",
     "evalue": "invalid syntax. Perhaps you forgot a comma? (1274765787.py, line 5)",
     "output_type": "error",
     "traceback": [
      "\u001b[0;36m  Input \u001b[0;32mIn [80]\u001b[0;36m\u001b[0m\n\u001b[0;31m    2\u001b[0m\n\u001b[0m    ^\u001b[0m\n\u001b[0;31mSyntaxError\u001b[0m\u001b[0;31m:\u001b[0m invalid syntax. Perhaps you forgot a comma?\n"
     ]
    }
   ],
   "source": [
    "# Python 3.10\n",
    "\n",
    "values = [\n",
    "    1,\n",
    "    2\n",
    "    3\n",
    "]"
   ]
  },
  {
   "cell_type": "markdown",
   "metadata": {
    "slideshow": {
     "slide_type": "slide"
    }
   },
   "source": [
    "## <center> Des annotations de type plus lisibles"
   ]
  },
  {
   "cell_type": "code",
   "execution_count": 2,
   "metadata": {
    "slideshow": {
     "slide_type": "subslide"
    }
   },
   "outputs": [
    {
     "data": {
      "text/plain": [
       "42.0"
      ]
     },
     "execution_count": 2,
     "metadata": {},
     "output_type": "execute_result"
    }
   ],
   "source": [
    "# Python 3.9\n",
    "\n",
    "from typing import Union\n",
    "\n",
    "\n",
    "def add(x: Union[int, float], y: Union[int, float]) -> Union[int, float]:\n",
    "    return x + y\n",
    "\n",
    "add(40, 2.0)"
   ]
  },
  {
   "cell_type": "code",
   "execution_count": 1,
   "metadata": {
    "slideshow": {
     "slide_type": "fragment"
    }
   },
   "outputs": [
    {
     "data": {
      "text/plain": [
       "42.0"
      ]
     },
     "execution_count": 1,
     "metadata": {},
     "output_type": "execute_result"
    }
   ],
   "source": [
    "# Python 3.10\n",
    "\n",
    "def add(x: int | float, y: int | float) -> int | float:\n",
    "    return x + y\n",
    "\n",
    "add(40, 2.0)"
   ]
  },
  {
   "cell_type": "code",
   "execution_count": null,
   "metadata": {
    "slideshow": {
     "slide_type": "subslide"
    }
   },
   "outputs": [
    {
     "data": {
      "text/plain": [
       "42"
      ]
     },
     "execution_count": 69,
     "metadata": {},
     "output_type": "execute_result"
    }
   ],
   "source": [
    "# Python 3.9\n",
    "\n",
    "from typing import Optional\n",
    "\n",
    "\n",
    "def safe_sum(*values: Optional[int]) -> Optional[int]:\n",
    "    return sum(v for v in values if v is not None)\n",
    "\n",
    "safe_sum(20, None, 10, 10, None, 2)"
   ]
  },
  {
   "cell_type": "code",
   "execution_count": null,
   "metadata": {
    "slideshow": {
     "slide_type": "fragment"
    }
   },
   "outputs": [
    {
     "data": {
      "text/plain": [
       "42"
      ]
     },
     "execution_count": 70,
     "metadata": {},
     "output_type": "execute_result"
    }
   ],
   "source": [
    "# Python 3.10\n",
    "\n",
    "def safe_sum(*values: int | None) -> int | None:\n",
    "    return sum(v for v in values if v is not None)\n",
    "\n",
    "safe_sum(20, None, 10, 10, None, 2)"
   ]
  },
  {
   "cell_type": "markdown",
   "metadata": {
    "slideshow": {
     "slide_type": "slide"
    }
   },
   "source": [
    "## <center> Le filtrage par motif (Pattern Matching)\n",
    "\n",
    "<center>La grosse nouveauté !</center>"
   ]
  },
  {
   "cell_type": "code",
   "execution_count": null,
   "metadata": {
    "slideshow": {
     "slide_type": "subslide"
    }
   },
   "outputs": [],
   "source": [
    "def do(action: str) -> str:\n",
    "    match action.split():\n",
    "        case ['eat', ingredient]:\n",
    "            return f\"Eating {ingredient}\"\n",
    "\n",
    "        case _:\n",
    "            return \"Invalid action\""
   ]
  },
  {
   "cell_type": "code",
   "execution_count": null,
   "metadata": {
    "slideshow": {
     "slide_type": "fragment"
    }
   },
   "outputs": [
    {
     "data": {
      "text/plain": [
       "'Eating carrot'"
      ]
     },
     "execution_count": 126,
     "metadata": {},
     "output_type": "execute_result"
    }
   ],
   "source": [
    "do('eat carrot')"
   ]
  },
  {
   "cell_type": "code",
   "execution_count": null,
   "metadata": {
    "slideshow": {
     "slide_type": "fragment"
    }
   },
   "outputs": [
    {
     "data": {
      "text/plain": [
       "'Invalid action'"
      ]
     },
     "execution_count": 128,
     "metadata": {},
     "output_type": "execute_result"
    }
   ],
   "source": [
    "do('sleep')"
   ]
  },
  {
   "cell_type": "code",
   "execution_count": null,
   "metadata": {
    "slideshow": {
     "slide_type": "subslide"
    }
   },
   "outputs": [],
   "source": [
    "def do(action: str) -> str:\n",
    "    match action.split():\n",
    "        case ['eat', ingredient]:\n",
    "            return f\"Eating {ingredient}\"\n",
    "\n",
    "        case ['eat', ingredient, other_ingredient]:\n",
    "            return f\"Eating {ingredient} and {other_ingredient}\"\n",
    "            \n",
    "        case _:\n",
    "            return \"Invalid action\""
   ]
  },
  {
   "cell_type": "code",
   "execution_count": null,
   "metadata": {
    "slideshow": {
     "slide_type": "fragment"
    }
   },
   "outputs": [
    {
     "data": {
      "text/plain": [
       "'Eating carrot and apple'"
      ]
     },
     "execution_count": 129,
     "metadata": {},
     "output_type": "execute_result"
    }
   ],
   "source": [
    "do('eat carrot apple')"
   ]
  },
  {
   "cell_type": "code",
   "execution_count": null,
   "metadata": {
    "slideshow": {
     "slide_type": "subslide"
    }
   },
   "outputs": [],
   "source": [
    "def do(action: str) -> str:\n",
    "    match action.split():\n",
    "        case ['eat', ingredient]:\n",
    "            return f\"Eating {ingredient}\"\n",
    "\n",
    "        case ['eat', ingredient, other_ingredient]:\n",
    "            return f\"Eating {ingredient} and {other_ingredient}\"\n",
    "            \n",
    "        case ['eat', *ingredients]:\n",
    "            return f\"Eating: {', '.join(ingredients)}\"\n",
    "\n",
    "        case _:\n",
    "            return \"Invalid action\""
   ]
  },
  {
   "cell_type": "code",
   "execution_count": null,
   "metadata": {
    "slideshow": {
     "slide_type": "fragment"
    }
   },
   "outputs": [
    {
     "data": {
      "text/plain": [
       "'Eating: carrot, apple, banana'"
      ]
     },
     "execution_count": 130,
     "metadata": {},
     "output_type": "execute_result"
    }
   ],
   "source": [
    "do('eat carrot apple banana')"
   ]
  },
  {
   "cell_type": "code",
   "execution_count": null,
   "metadata": {
    "slideshow": {
     "slide_type": "subslide"
    }
   },
   "outputs": [],
   "source": [
    "def do(action: str) -> str:\n",
    "    match action.split():\n",
    "        case ['eat', ingredient]:\n",
    "            return f\"Eating {ingredient}\"\n",
    "\n",
    "        case ['eat', ingredient, other_ingredient]:\n",
    "            return f\"Eating {ingredient} and {other_ingredient}\"\n",
    "            \n",
    "        case ['eat', *ingredients] if len(ingredients) > 5:\n",
    "            return \"Eating too many things at once\"\n",
    "\n",
    "        case ['eat', *ingredients]:\n",
    "            return f\"Eating: {', '.join(ingredients)}\"\n",
    "\n",
    "        case _:\n",
    "            return \"Invalid action\""
   ]
  },
  {
   "cell_type": "code",
   "execution_count": null,
   "metadata": {
    "slideshow": {
     "slide_type": "fragment"
    }
   },
   "outputs": [
    {
     "data": {
      "text/plain": [
       "'Eating too many things at once'"
      ]
     },
     "execution_count": 131,
     "metadata": {},
     "output_type": "execute_result"
    }
   ],
   "source": [
    "do('eat carrot apple banana orange salmon rocks')"
   ]
  },
  {
   "cell_type": "code",
   "execution_count": null,
   "metadata": {
    "slideshow": {
     "slide_type": "subslide"
    }
   },
   "outputs": [],
   "source": [
    "def do(action: str) -> str:\n",
    "    match action.split():\n",
    "        case ['eat', ingredient]:\n",
    "            return f\"Eating {ingredient}\"\n",
    "\n",
    "        case ['eat', ingredient, other_ingredient]:\n",
    "            return f\"Eating {ingredient} and {other_ingredient}\"\n",
    "\n",
    "        case ['eat', *ingredients] if len(ingredients) > 5:\n",
    "            return \"Eating too many things at once\"\n",
    "\n",
    "        case ['eat', *ingredients]:\n",
    "            return f\"Eating: {', '.join(ingredients)}\"\n",
    "\n",
    "        case ['move', ('east' | 'west' | 'north' | 'south') as direction]:\n",
    "            return f\"Moving to the {direction}\"\n",
    "\n",
    "        case _:\n",
    "            return \"Invalid action\""
   ]
  },
  {
   "cell_type": "code",
   "execution_count": null,
   "metadata": {
    "slideshow": {
     "slide_type": "fragment"
    }
   },
   "outputs": [
    {
     "data": {
      "text/plain": [
       "'Moving to the west'"
      ]
     },
     "execution_count": 132,
     "metadata": {},
     "output_type": "execute_result"
    }
   ],
   "source": [
    "do(\"move west\")"
   ]
  },
  {
   "cell_type": "code",
   "execution_count": null,
   "metadata": {
    "slideshow": {
     "slide_type": "fragment"
    }
   },
   "outputs": [
    {
     "data": {
      "text/plain": [
       "'Invalid action'"
      ]
     },
     "execution_count": 133,
     "metadata": {},
     "output_type": "execute_result"
    }
   ],
   "source": [
    "do(\"move up\")"
   ]
  },
  {
   "cell_type": "code",
   "execution_count": null,
   "metadata": {
    "slideshow": {
     "slide_type": "subslide"
    }
   },
   "outputs": [],
   "source": [
    "from dataclasses import dataclass\n",
    "\n",
    "@dataclass\n",
    "class Point:\n",
    "    x: int\n",
    "    y: int\n",
    "\n",
    "def location(point: Point):\n",
    "    match point:\n",
    "        case Point(x=0, y=0):\n",
    "            return \"The point is on the origin.\"\n",
    "\n",
    "        case Point(x=0, y=y):\n",
    "            return f\"Y={y} and the point is on the y-axis.\"\n",
    "\n",
    "        case Point(x=x, y=0):\n",
    "            return f\"X={x} and the point is on the x-axis.\"\n",
    "\n",
    "        case Point():\n",
    "            return \"The point is located somewhere else\""
   ]
  },
  {
   "cell_type": "code",
   "execution_count": null,
   "metadata": {
    "slideshow": {
     "slide_type": "fragment"
    }
   },
   "outputs": [
    {
     "data": {
      "text/plain": [
       "'Y=42 and the point is on the y-axis.'"
      ]
     },
     "execution_count": 143,
     "metadata": {},
     "output_type": "execute_result"
    }
   ],
   "source": [
    "location(Point(x=0, y=42))"
   ]
  },
  {
   "cell_type": "code",
   "execution_count": null,
   "metadata": {
    "slideshow": {
     "slide_type": "subslide"
    }
   },
   "outputs": [],
   "source": [
    "def http_error(status):\n",
    "    match status:\n",
    "        case 400:\n",
    "            return \"Bad request\"\n",
    "        case 404:\n",
    "            return \"Not found\"\n",
    "        case 418:\n",
    "            return \"I'm a teapot\""
   ]
  },
  {
   "cell_type": "code",
   "execution_count": null,
   "metadata": {
    "slideshow": {
     "slide_type": "fragment"
    }
   },
   "outputs": [
    {
     "data": {
      "text/plain": [
       "'Bad request'"
      ]
     },
     "execution_count": 135,
     "metadata": {},
     "output_type": "execute_result"
    }
   ],
   "source": [
    "http_error(400)"
   ]
  },
  {
   "cell_type": "code",
   "execution_count": null,
   "metadata": {
    "slideshow": {
     "slide_type": "fragment"
    }
   },
   "outputs": [],
   "source": [
    "http_error(500)"
   ]
  },
  {
   "cell_type": "markdown",
   "metadata": {
    "slideshow": {
     "slide_type": "subslide"
    }
   },
   "source": [
    "### <center>Attention aux pièges ! 🪤</center>"
   ]
  },
  {
   "cell_type": "code",
   "execution_count": null,
   "metadata": {
    "slideshow": {
     "slide_type": "fragment"
    }
   },
   "outputs": [],
   "source": [
    "BAD_REQUEST = 400\n",
    "NOT_FOUND = 404\n",
    "IM_A_TEAPOT = 418\n",
    "\n",
    "def http_error(response):\n",
    "    match response:\n",
    "        case {'status': BAD_REQUEST}:\n",
    "            return \"Bad request\"\n",
    "        case {'status': NOT_FOUND}:\n",
    "            return \"Not found\"\n",
    "        case {'status': IM_A_TEAPOT}:\n",
    "            return \"I'm a teapot\""
   ]
  },
  {
   "cell_type": "code",
   "execution_count": null,
   "metadata": {
    "slideshow": {
     "slide_type": "fragment"
    }
   },
   "outputs": [
    {
     "data": {
      "text/plain": [
       "'Bad request'"
      ]
     },
     "execution_count": 164,
     "metadata": {},
     "output_type": "execute_result"
    }
   ],
   "source": [
    "http_error({'status': 400, 'body': {}})"
   ]
  },
  {
   "cell_type": "code",
   "execution_count": null,
   "metadata": {
    "slideshow": {
     "slide_type": "fragment"
    }
   },
   "outputs": [
    {
     "data": {
      "text/plain": [
       "'Bad request'"
      ]
     },
     "execution_count": 165,
     "metadata": {},
     "output_type": "execute_result"
    }
   ],
   "source": [
    "http_error({'status': 404, 'body': {}})"
   ]
  },
  {
   "cell_type": "markdown",
   "metadata": {
    "slideshow": {
     "slide_type": "slide"
    }
   },
   "source": [
    "## <center> Et Python 3.11 ?\n",
    "\n",
    "La 3.11 devrait sortir en Octobre, et apporter de grosses améliorations de performance (10-60% !)."
   ]
  }
 ],
 "metadata": {
  "celltoolbar": "Slideshow",
  "kernelspec": {
   "display_name": "Python 3 (ipykernel)",
   "language": "python",
   "name": "python3"
  },
  "language_info": {
   "codemirror_mode": {
    "name": "ipython",
    "version": 3
   },
   "file_extension": ".py",
   "mimetype": "text/x-python",
   "name": "python",
   "nbconvert_exporter": "python",
   "pygments_lexer": "ipython3",
   "version": "3.10.5"
  },
  "vscode": {
   "interpreter": {
    "hash": "ceeb68dd12b9d4783238912980ef96b733ac33f9d092818f149ee398822a12ef"
   }
  }
 },
 "nbformat": 4,
 "nbformat_minor": 2
}
